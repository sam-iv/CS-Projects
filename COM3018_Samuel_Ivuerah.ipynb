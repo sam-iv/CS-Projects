{
  "nbformat": 4,
  "nbformat_minor": 0,
  "metadata": {
    "colab": {
      "provenance": []
    },
    "kernelspec": {
      "name": "python3",
      "display_name": "Python 3"
    },
    "language_info": {
      "name": "python"
    }
  },
  "cells": [
    {
      "cell_type": "markdown",
      "source": [
        "# COM3018 - Samuel Ivuerah (6779255)'s Experiment\n"
      ],
      "metadata": {
        "id": "HbQpycruPzt_"
      }
    },
    {
      "cell_type": "markdown",
      "source": [
        "## Models Explored\n",
        "- Individual Model: Logistic Regression\n",
        "- Shared Model: Random Forest\n"
      ],
      "metadata": {
        "id": "4zfFepOwQYTu"
      }
    },
    {
      "cell_type": "markdown",
      "source": [
        "\n",
        "\n",
        "---\n",
        "\n",
        "\n",
        "## Installation Commands"
      ],
      "metadata": {
        "id": "ORmOKNBpfB9Y"
      }
    },
    {
      "cell_type": "code",
      "source": [
        "!pip install matplotlib scikit-learn pandas numpy"
      ],
      "metadata": {
        "id": "pmSdKp7IfCfK",
        "colab": {
          "base_uri": "https://localhost:8080/"
        },
        "outputId": "5701cb1f-97ee-454f-abe2-ff89d661abb9"
      },
      "execution_count": null,
      "outputs": [
        {
          "output_type": "stream",
          "name": "stdout",
          "text": [
            "Requirement already satisfied: matplotlib in /usr/local/lib/python3.10/dist-packages (3.8.0)\n",
            "Requirement already satisfied: scikit-learn in /usr/local/lib/python3.10/dist-packages (1.6.0)\n",
            "Requirement already satisfied: pandas in /usr/local/lib/python3.10/dist-packages (2.2.2)\n",
            "Requirement already satisfied: numpy in /usr/local/lib/python3.10/dist-packages (1.26.4)\n",
            "Requirement already satisfied: contourpy>=1.0.1 in /usr/local/lib/python3.10/dist-packages (from matplotlib) (1.3.1)\n",
            "Requirement already satisfied: cycler>=0.10 in /usr/local/lib/python3.10/dist-packages (from matplotlib) (0.12.1)\n",
            "Requirement already satisfied: fonttools>=4.22.0 in /usr/local/lib/python3.10/dist-packages (from matplotlib) (4.55.3)\n",
            "Requirement already satisfied: kiwisolver>=1.0.1 in /usr/local/lib/python3.10/dist-packages (from matplotlib) (1.4.7)\n",
            "Requirement already satisfied: packaging>=20.0 in /usr/local/lib/python3.10/dist-packages (from matplotlib) (24.2)\n",
            "Requirement already satisfied: pillow>=6.2.0 in /usr/local/lib/python3.10/dist-packages (from matplotlib) (11.0.0)\n",
            "Requirement already satisfied: pyparsing>=2.3.1 in /usr/local/lib/python3.10/dist-packages (from matplotlib) (3.2.0)\n",
            "Requirement already satisfied: python-dateutil>=2.7 in /usr/local/lib/python3.10/dist-packages (from matplotlib) (2.8.2)\n",
            "Requirement already satisfied: scipy>=1.6.0 in /usr/local/lib/python3.10/dist-packages (from scikit-learn) (1.13.1)\n",
            "Requirement already satisfied: joblib>=1.2.0 in /usr/local/lib/python3.10/dist-packages (from scikit-learn) (1.4.2)\n",
            "Requirement already satisfied: threadpoolctl>=3.1.0 in /usr/local/lib/python3.10/dist-packages (from scikit-learn) (3.5.0)\n",
            "Requirement already satisfied: pytz>=2020.1 in /usr/local/lib/python3.10/dist-packages (from pandas) (2024.2)\n",
            "Requirement already satisfied: tzdata>=2022.7 in /usr/local/lib/python3.10/dist-packages (from pandas) (2024.2)\n",
            "Requirement already satisfied: six>=1.5 in /usr/local/lib/python3.10/dist-packages (from python-dateutil>=2.7->matplotlib) (1.17.0)\n"
          ]
        }
      ]
    },
    {
      "cell_type": "markdown",
      "source": [
        "\n",
        "\n",
        "---\n",
        "\n",
        "\n",
        "## Imports"
      ],
      "metadata": {
        "id": "MCh3X31OeY-_"
      }
    },
    {
      "cell_type": "code",
      "execution_count": null,
      "metadata": {
        "id": "lvr-jkjbPISC"
      },
      "outputs": [],
      "source": [
        "import pandas as pd\n",
        "import numpy as np\n",
        "from sklearn.metrics import (\n",
        "    precision_score, recall_score, roc_auc_score,\n",
        "    balanced_accuracy_score, matthews_corrcoef,\n",
        "    confusion_matrix, ConfusionMatrixDisplay\n",
        ")\n",
        "import matplotlib.pyplot as plt\n",
        "from sklearn.model_selection import train_test_split, GridSearchCV\n",
        "from sklearn.linear_model import LogisticRegression\n",
        "from sklearn.ensemble import RandomForestClassifier"
      ]
    },
    {
      "cell_type": "markdown",
      "source": [
        "## Setup\n",
        "\n",
        "*   Loading Datasets\n",
        "*   Displaying Datasets\n",
        "*   Separating features and the target\n",
        "*   Defining target labels\n",
        "*   Setting seeds for reproducibility\n",
        "\n",
        "\n",
        "\n",
        "\n",
        "---\n"
      ],
      "metadata": {
        "id": "a0VLG4rIhNVF"
      }
    },
    {
      "cell_type": "code",
      "source": [
        "# Load the training, validation, and testing datasets\n",
        "train_data = pd.read_csv(\"train_data.csv\")\n",
        "test_data = pd.read_csv(\"test_data.csv\")\n",
        "val_data = pd.read_csv(\"val_data.csv\")\n",
        "\n",
        "# Check the structure of the datasets\n",
        "print(\"Training Data Overview:\")\n",
        "print(train_data.info())\n",
        "print(\"\\nValidation Data Overview:\")\n",
        "print(val_data.info())\n",
        "print(\"\\nTesting Data Overview:\")\n",
        "print(test_data.info())\n",
        "\n",
        "# Check for missing values\n",
        "print(\"\\nMissing Values in Training Data:\")\n",
        "print(train_data.isnull().sum())\n",
        "print(\"\\nMissing Values in Validation Data:\")\n",
        "print(val_data.isnull().sum())\n",
        "print(\"\\nMissing Values in Testing Data:\")\n",
        "print(test_data.isnull().sum())\n",
        "\n",
        "# Separating feature matrices and target vectors\n",
        "X_train = train_data.drop(columns=['target'])\n",
        "y_train = train_data['target']\n",
        "\n",
        "X_val = val_data.drop(columns=['target'])\n",
        "y_val = val_data['target']\n",
        "\n",
        "X_test = test_data.drop(columns=['target'])\n",
        "y_test = test_data['target']\n",
        "\n",
        "# Define labels\n",
        "labels = ['Negative', 'Hyperthyroidism', 'Hypothyroidism']\n",
        "\n",
        "# Set Seed\n",
        "seed = 42\n",
        "np.random.seed(seed)"
      ],
      "metadata": {
        "id": "uQPb-QnehPue",
        "colab": {
          "base_uri": "https://localhost:8080/"
        },
        "outputId": "535935d7-4fd3-4b34-fc50-3d781d65a70f"
      },
      "execution_count": null,
      "outputs": [
        {
          "output_type": "stream",
          "name": "stdout",
          "text": [
            "Training Data Overview:\n",
            "<class 'pandas.core.frame.DataFrame'>\n",
            "RangeIndex: 771 entries, 0 to 770\n",
            "Data columns (total 24 columns):\n",
            " #   Column               Non-Null Count  Dtype  \n",
            "---  ------               --------------  -----  \n",
            " 0   age                  771 non-null    int64  \n",
            " 1   sex                  771 non-null    int64  \n",
            " 2   on_thyroxine         771 non-null    int64  \n",
            " 3   query_on_thyroxine   771 non-null    int64  \n",
            " 4   on_antithyroid_meds  771 non-null    int64  \n",
            " 5   sick                 771 non-null    int64  \n",
            " 6   pregnant             771 non-null    int64  \n",
            " 7   thyroid_surgery      771 non-null    int64  \n",
            " 8   I131_treatment       771 non-null    int64  \n",
            " 9   query_hypothyroid    771 non-null    int64  \n",
            " 10  query_hyperthyroid   771 non-null    int64  \n",
            " 11  lithium              771 non-null    int64  \n",
            " 12  goitre               771 non-null    int64  \n",
            " 13  tumor                771 non-null    int64  \n",
            " 14  hypopituitary        771 non-null    int64  \n",
            " 15  psych                771 non-null    int64  \n",
            " 16  TSH                  771 non-null    float64\n",
            " 17  T3                   771 non-null    float64\n",
            " 18  TT4                  771 non-null    float64\n",
            " 19  T4U                  771 non-null    float64\n",
            " 20  FTI                  771 non-null    float64\n",
            " 21  target               771 non-null    int64  \n",
            " 22  TSH_T3               771 non-null    float64\n",
            " 23  FTI_Ratio            771 non-null    float64\n",
            "dtypes: float64(7), int64(17)\n",
            "memory usage: 144.7 KB\n",
            "None\n",
            "\n",
            "Validation Data Overview:\n",
            "<class 'pandas.core.frame.DataFrame'>\n",
            "RangeIndex: 257 entries, 0 to 256\n",
            "Data columns (total 24 columns):\n",
            " #   Column               Non-Null Count  Dtype  \n",
            "---  ------               --------------  -----  \n",
            " 0   age                  257 non-null    int64  \n",
            " 1   sex                  257 non-null    int64  \n",
            " 2   on_thyroxine         257 non-null    int64  \n",
            " 3   query_on_thyroxine   257 non-null    int64  \n",
            " 4   on_antithyroid_meds  257 non-null    int64  \n",
            " 5   sick                 257 non-null    int64  \n",
            " 6   pregnant             257 non-null    int64  \n",
            " 7   thyroid_surgery      257 non-null    int64  \n",
            " 8   I131_treatment       257 non-null    int64  \n",
            " 9   query_hypothyroid    257 non-null    int64  \n",
            " 10  query_hyperthyroid   257 non-null    int64  \n",
            " 11  lithium              257 non-null    int64  \n",
            " 12  goitre               257 non-null    int64  \n",
            " 13  tumor                257 non-null    int64  \n",
            " 14  hypopituitary        257 non-null    int64  \n",
            " 15  psych                257 non-null    int64  \n",
            " 16  TSH                  257 non-null    float64\n",
            " 17  T3                   257 non-null    float64\n",
            " 18  TT4                  257 non-null    float64\n",
            " 19  T4U                  257 non-null    float64\n",
            " 20  FTI                  257 non-null    float64\n",
            " 21  target               257 non-null    int64  \n",
            " 22  TSH_T3               257 non-null    float64\n",
            " 23  FTI_Ratio            257 non-null    float64\n",
            "dtypes: float64(7), int64(17)\n",
            "memory usage: 48.3 KB\n",
            "None\n",
            "\n",
            "Testing Data Overview:\n",
            "<class 'pandas.core.frame.DataFrame'>\n",
            "RangeIndex: 258 entries, 0 to 257\n",
            "Data columns (total 24 columns):\n",
            " #   Column               Non-Null Count  Dtype  \n",
            "---  ------               --------------  -----  \n",
            " 0   age                  258 non-null    int64  \n",
            " 1   sex                  258 non-null    int64  \n",
            " 2   on_thyroxine         258 non-null    int64  \n",
            " 3   query_on_thyroxine   258 non-null    int64  \n",
            " 4   on_antithyroid_meds  258 non-null    int64  \n",
            " 5   sick                 258 non-null    int64  \n",
            " 6   pregnant             258 non-null    int64  \n",
            " 7   thyroid_surgery      258 non-null    int64  \n",
            " 8   I131_treatment       258 non-null    int64  \n",
            " 9   query_hypothyroid    258 non-null    int64  \n",
            " 10  query_hyperthyroid   258 non-null    int64  \n",
            " 11  lithium              258 non-null    int64  \n",
            " 12  goitre               258 non-null    int64  \n",
            " 13  tumor                258 non-null    int64  \n",
            " 14  hypopituitary        258 non-null    int64  \n",
            " 15  psych                258 non-null    int64  \n",
            " 16  TSH                  258 non-null    float64\n",
            " 17  T3                   258 non-null    float64\n",
            " 18  TT4                  258 non-null    float64\n",
            " 19  T4U                  258 non-null    float64\n",
            " 20  FTI                  258 non-null    float64\n",
            " 21  target               258 non-null    int64  \n",
            " 22  TSH_T3               258 non-null    float64\n",
            " 23  FTI_Ratio            258 non-null    float64\n",
            "dtypes: float64(7), int64(17)\n",
            "memory usage: 48.5 KB\n",
            "None\n",
            "\n",
            "Missing Values in Training Data:\n",
            "age                    0\n",
            "sex                    0\n",
            "on_thyroxine           0\n",
            "query_on_thyroxine     0\n",
            "on_antithyroid_meds    0\n",
            "sick                   0\n",
            "pregnant               0\n",
            "thyroid_surgery        0\n",
            "I131_treatment         0\n",
            "query_hypothyroid      0\n",
            "query_hyperthyroid     0\n",
            "lithium                0\n",
            "goitre                 0\n",
            "tumor                  0\n",
            "hypopituitary          0\n",
            "psych                  0\n",
            "TSH                    0\n",
            "T3                     0\n",
            "TT4                    0\n",
            "T4U                    0\n",
            "FTI                    0\n",
            "target                 0\n",
            "TSH_T3                 0\n",
            "FTI_Ratio              0\n",
            "dtype: int64\n",
            "\n",
            "Missing Values in Validation Data:\n",
            "age                    0\n",
            "sex                    0\n",
            "on_thyroxine           0\n",
            "query_on_thyroxine     0\n",
            "on_antithyroid_meds    0\n",
            "sick                   0\n",
            "pregnant               0\n",
            "thyroid_surgery        0\n",
            "I131_treatment         0\n",
            "query_hypothyroid      0\n",
            "query_hyperthyroid     0\n",
            "lithium                0\n",
            "goitre                 0\n",
            "tumor                  0\n",
            "hypopituitary          0\n",
            "psych                  0\n",
            "TSH                    0\n",
            "T3                     0\n",
            "TT4                    0\n",
            "T4U                    0\n",
            "FTI                    0\n",
            "target                 0\n",
            "TSH_T3                 0\n",
            "FTI_Ratio              0\n",
            "dtype: int64\n",
            "\n",
            "Missing Values in Testing Data:\n",
            "age                    0\n",
            "sex                    0\n",
            "on_thyroxine           0\n",
            "query_on_thyroxine     0\n",
            "on_antithyroid_meds    0\n",
            "sick                   0\n",
            "pregnant               0\n",
            "thyroid_surgery        0\n",
            "I131_treatment         0\n",
            "query_hypothyroid      0\n",
            "query_hyperthyroid     0\n",
            "lithium                0\n",
            "goitre                 0\n",
            "tumor                  0\n",
            "hypopituitary          0\n",
            "psych                  0\n",
            "TSH                    0\n",
            "T3                     0\n",
            "TT4                    0\n",
            "T4U                    0\n",
            "FTI                    0\n",
            "target                 0\n",
            "TSH_T3                 0\n",
            "FTI_Ratio              0\n",
            "dtype: int64\n"
          ]
        }
      ]
    },
    {
      "cell_type": "markdown",
      "source": [
        "\n",
        "\n",
        "---\n",
        "\n",
        "\n",
        "## Helper Functions"
      ],
      "metadata": {
        "id": "4L03hkMqHezl"
      }
    },
    {
      "cell_type": "code",
      "source": [
        "from sklearn.metrics import precision_score, recall_score, f1_score, roc_auc_score, balanced_accuracy_score, matthews_corrcoef, confusion_matrix\n",
        "import matplotlib.pyplot as plt\n",
        "from sklearn.metrics import ConfusionMatrixDisplay\n",
        "\n",
        "def evaluate_model(model, X_test, y_test, labels):\n",
        "    \"\"\"\n",
        "    A function to evaluate a model on a test set and print metrics and a\n",
        "    confusion matrix.\n",
        "\n",
        "    :param model: A trained model\n",
        "    :param X_test: The test set features\n",
        "    :param y_test: The test set labels\n",
        "    :param labels: The class labels\n",
        "    \"\"\"\n",
        "\n",
        "    predictions = model.predict(X_test)\n",
        "    probabilities = model.predict_proba(X_test)\n",
        "\n",
        "    # Metrics (Weighted/Overall)\n",
        "    precision = precision_score(y_test, predictions, average='weighted')\n",
        "    recall = recall_score(y_test, predictions, average='weighted')\n",
        "    f1 = f1_score(y_test, predictions, average='weighted')\n",
        "    roc_auc = roc_auc_score(y_test, probabilities, multi_class='ovr')\n",
        "    balanced_acc = balanced_accuracy_score(y_test, predictions)\n",
        "    mcc = matthews_corrcoef(y_test, predictions)\n",
        "\n",
        "    # Confusion Matrix for Specificity calculation\n",
        "    conf_matrix = confusion_matrix(y_test, predictions)\n",
        "\n",
        "    # Calculate class-specific metrics (Precision, Recall, F1)\n",
        "    class_precision = precision_score(y_test, predictions, average=None, labels=[0, 1, 2])\n",
        "    class_recall = recall_score(y_test, predictions, average=None, labels=[0, 1, 2])\n",
        "    class_f1 = f1_score(y_test, predictions, average=None, labels=[0, 1, 2])\n",
        "\n",
        "    # Specificity calculation for each class\n",
        "    specificity = {}\n",
        "    class_accuracy = {}\n",
        "    for i in range(len(labels)):\n",
        "        # Extract the confusion matrix for each class\n",
        "        tn = conf_matrix.sum() - conf_matrix[i].sum() - conf_matrix[:, i].sum() + conf_matrix[i, i]\n",
        "        fp = conf_matrix[:, i].sum() - conf_matrix[i, i]\n",
        "        fn = conf_matrix[i].sum() - conf_matrix[i, i]\n",
        "        tp = conf_matrix[i, i]\n",
        "\n",
        "        specificity[labels[i]] = tn / (tn + fp) if (tn + fp) != 0 else 0\n",
        "        # Calculate accuracy for each class\n",
        "        class_accuracy[labels[i]] = tp / (tp + fp + fn) if (tp + fp + fn) != 0 else 0\n",
        "\n",
        "    # Print metrics in a formatted manner\n",
        "    print(f\"Weighted Precision: {precision:.4f}\")\n",
        "    print(f\"Weighted Recall: {recall:.4f}\")\n",
        "    print(f\"Weighted F1-Score: {f1:.4f}\")\n",
        "    print(f\"ROC-AUC: {roc_auc:.4f}\")\n",
        "    print(f\"Balanced Accuracy: {balanced_acc:.4f}\")\n",
        "    print(f\"Matthews Correlation Coefficient: {mcc:.4f}\")\n",
        "    print(f\"Specificity (for each class): {specificity}\")\n",
        "    print(f\"Class Accuracy (for each class): {class_accuracy}\")\n",
        "\n",
        "    # Class-specific metrics (Precision, Recall, F1)\n",
        "    for i, label in enumerate(labels):\n",
        "        print(f\"\\nClass: {label}\")\n",
        "        print(f\"  Precision: {class_precision[i]:.4f}\")\n",
        "        print(f\"  Recall: {class_recall[i]:.4f}\")\n",
        "        print(f\"  F1-Score: {class_f1[i]:.4f}\")\n",
        "        print(f\"  Accuracy: {class_accuracy[label]:.4f}\")\n",
        "\n",
        "    # Plot Confusion Matrix\n",
        "    disp = ConfusionMatrixDisplay(confusion_matrix=conf_matrix, display_labels=labels)\n",
        "    disp.plot(cmap=plt.cm.Blues)\n",
        "    plt.title(\"Confusion Matrix\")\n",
        "    plt.show()\n"
      ],
      "metadata": {
        "id": "Hoyq0vDHIs5v"
      },
      "execution_count": null,
      "outputs": []
    },
    {
      "cell_type": "code",
      "source": [
        "from sklearn.metrics import roc_curve, auc, precision_recall_curve\n",
        "\n",
        "def plot_roc_curve(y_test, probabilities, labels):\n",
        "    plt.figure(figsize=(8, 6))\n",
        "    for i in range(len(labels)):\n",
        "        fpr, tpr, _ = roc_curve(y_test == i, probabilities[:, i])\n",
        "        roc_auc = auc(fpr, tpr)\n",
        "        plt.plot(fpr, tpr, label=f'{labels[i]} (AUC = {roc_auc:.2f})')\n",
        "\n",
        "    plt.plot([0, 1], [0, 1], 'k--', label='Random Classifier')\n",
        "    plt.xlabel('False Positive Rate')\n",
        "    plt.ylabel('True Positive Rate')\n",
        "    plt.title('Receiver Operating Characteristic')\n",
        "    plt.legend(loc='best')\n",
        "    plt.show()\n",
        "\n",
        "def plot_precision_recall_curve(y_test, probabilities, labels):\n",
        "    plt.figure(figsize=(8, 6))\n",
        "    for i in range(len(labels)):\n",
        "        precision, recall, _ = precision_recall_curve(y_test == i, probabilities[:, i])\n",
        "        plt.plot(recall, precision, label=f'{labels[i]}')\n",
        "\n",
        "    plt.xlabel('Recall')\n",
        "    plt.ylabel('Precision')\n",
        "    plt.title('Precision-Recall Curve')\n",
        "    plt.legend(loc='best')\n",
        "    plt.show()\n"
      ],
      "metadata": {
        "id": "XfDz48vOTdSC"
      },
      "execution_count": null,
      "outputs": []
    },
    {
      "cell_type": "markdown",
      "source": [
        "\n",
        "\n",
        "---\n",
        "## Individual Model: Logistic Regression\n",
        "\n",
        "### Hyperparameter Search\n",
        "\n",
        "Using Gridsearch with 5 fold cross validation - ```GridSearchCV``` - via the ```sklearn.model_selection``` library.\n",
        "\n",
        "\n",
        "\n",
        "#### Parameter Search Space\n",
        "\n",
        "*   ```C``` - Regularisation Strength - ```[0.001, 0.01, 0.1, 1, 10, 100, 1000]```\n",
        "   * Covering a large range of weak and strong regularisation to potentially minimise the overfitting of the majority classes (Hypothyroidism and Negative)\n",
        "*   ```penalty``` - Regularisation Type - ```['l2', 'l1']```\n",
        "   * Exploring L1 - Lasso - Regularisation and L2 - Ridge - Regularisation\n",
        "*   ```solver``` - Optimisation Algorithm - ```['saga']```\n",
        "   * Saga is a flexible and efficient solver, that can handle both l1 and l2 regularisation, and datasets with class imbalance.\n",
        "*   ```max_iter``` - Maximum number of iterations - ```[100, 200, 1000]```\n",
        "   * A wide range of iteration to ensure the solver has time for convergence.\n",
        "*   ```class_weight``` - Class Imbalance Handling - ```[None, 'balanced']```\n",
        "   * Where 'balanced' will automatically adjust weights based on class frequencies.\n",
        "*   ```multi_class``` - Multiple Class Handling - ```['ovr', 'multinomial']```\n",
        "   * There are three unique targets (Hyperthyroidism, Hypothyroidism, and Negative); hence, we have a multiclass classification problem, and thus, I will use suitable handling solution such as ovr - One vs rest - and multinomial.\n",
        "\n"
      ],
      "metadata": {
        "id": "RZZljlxmdKEi"
      }
    },
    {
      "cell_type": "code",
      "source": [
        "# Define the parameter grid\n",
        "param_grid = {\n",
        "    'C': [0.01, 0.1, 1, 10, 100],\n",
        "    'penalty': ['l2', 'l1'],\n",
        "    'solver': ['saga'],\n",
        "    'max_iter': [5000],\n",
        "    'class_weight': [None, 'balanced'],\n",
        "    'multi_class': ['ovr', 'multinomial']\n",
        "}\n",
        "\n",
        "# Initialise Logistic Regression model\n",
        "log_reg = LogisticRegression(random_state=seed)\n",
        "\n",
        "# Set up GridSearchCV with 5 fold cross-validation\n",
        "grid_search = GridSearchCV(log_reg, param_grid, cv=5, scoring='accuracy',\n",
        "                           n_jobs=-1)\n",
        "\n",
        "# Fit the grid search\n",
        "grid_search.fit(X_train, y_train)\n",
        "\n",
        "# Output the best parameters and best score\n",
        "print(f\"Best Parameters: {grid_search.best_params_}\")\n",
        "print(f\"Best Score: {grid_search.best_score_}\")"
      ],
      "metadata": {
        "colab": {
          "base_uri": "https://localhost:8080/"
        },
        "id": "2xPYIW226FCN",
        "outputId": "2ce9f694-3c34-4751-93e5-a539fdd86a2e"
      },
      "execution_count": null,
      "outputs": [
        {
          "output_type": "stream",
          "name": "stderr",
          "text": [
            "/usr/local/lib/python3.10/dist-packages/sklearn/linear_model/_logistic.py:1256: FutureWarning: 'multi_class' was deprecated in version 1.5 and will be removed in 1.7. Use OneVsRestClassifier(LogisticRegression(..)) instead. Leave it to its default value to avoid this warning.\n",
            "  warnings.warn(\n"
          ]
        },
        {
          "output_type": "stream",
          "name": "stdout",
          "text": [
            "Best Parameters: {'C': 0.1, 'class_weight': 'balanced', 'max_iter': 5000, 'multi_class': 'ovr', 'penalty': 'l2', 'solver': 'saga'}\n",
            "Best Score: 0.9104985337243402\n"
          ]
        }
      ]
    },
    {
      "cell_type": "markdown",
      "source": [
        "### Best Hyperparameters Chosen\n",
        "\n",
        "```\n",
        "C=10\n",
        "class_weight={0: 1, 1: 1.5, 2: 1}\n",
        "max_iter=1000\n",
        "multi_class='ovr'\n",
        "penalty='l2'\n",
        "solver='saga'\n",
        "```\n",
        "\n",
        "### Final Implementation"
      ],
      "metadata": {
        "id": "ZmNYk6AHGJmS"
      }
    },
    {
      "cell_type": "code",
      "source": [
        "# Initialise and train the Logistic Regression model\n",
        "log_reg = LogisticRegression(\n",
        "    C=0.1,\n",
        "    class_weight='balanced',\n",
        "    max_iter=5000,\n",
        "    multi_class='ovr',\n",
        "    penalty='l2',\n",
        "    solver='saga',\n",
        "    random_state=seed\n",
        ")\n",
        "\n",
        "# Fit the model on the training data\n",
        "log_reg.fit(X_train, y_train)\n",
        "\n",
        "# Evaluate the Logistic Regression model\n",
        "evaluate_model(log_reg, X_test, y_test, labels=labels)\n"
      ],
      "metadata": {
        "colab": {
          "base_uri": "https://localhost:8080/",
          "height": 978
        },
        "id": "P6u28IlMdXHE",
        "outputId": "c4b72e1e-abd4-4ea3-b749-cff913a2ab48"
      },
      "execution_count": null,
      "outputs": [
        {
          "output_type": "stream",
          "name": "stderr",
          "text": [
            "/usr/local/lib/python3.10/dist-packages/sklearn/linear_model/_logistic.py:1256: FutureWarning: 'multi_class' was deprecated in version 1.5 and will be removed in 1.7. Use OneVsRestClassifier(LogisticRegression(..)) instead. Leave it to its default value to avoid this warning.\n",
            "  warnings.warn(\n"
          ]
        },
        {
          "output_type": "stream",
          "name": "stdout",
          "text": [
            "Weighted Precision: 0.9175\n",
            "Weighted Recall: 0.9147\n",
            "Weighted F1-Score: 0.9147\n",
            "ROC-AUC: 0.9632\n",
            "Balanced Accuracy: 0.8855\n",
            "Matthews Correlation Coefficient: 0.8563\n",
            "Specificity (for each class): {'Negative': 0.9640287769784173, 'Hyperthyroidism': 0.9699570815450643, 'Hypothyroidism': 0.9305555555555556}\n",
            "Class Accuracy (for each class): {'Negative': 0.8387096774193549, 'Hyperthyroidism': 0.625, 'Hypothyroidism': 0.9032258064516129}\n",
            "\n",
            "Class: Negative\n",
            "  Precision: 0.9541\n",
            "  Recall: 0.8739\n",
            "  F1-Score: 0.9123\n",
            "  Accuracy: 0.8387\n",
            "\n",
            "Class: Hyperthyroidism\n",
            "  Precision: 0.7407\n",
            "  Recall: 0.8000\n",
            "  F1-Score: 0.7692\n",
            "  Accuracy: 0.6250\n",
            "\n",
            "Class: Hypothyroidism\n",
            "  Precision: 0.9180\n",
            "  Recall: 0.9825\n",
            "  F1-Score: 0.9492\n",
            "  Accuracy: 0.9032\n"
          ]
        },
        {
          "output_type": "display_data",
          "data": {
            "text/plain": [
              "<Figure size 640x480 with 2 Axes>"
            ],
            "image/png": "[encoded data removed]"
          },
          "metadata": {}
        }
      ]
    },
    {
      "cell_type": "markdown",
      "source": [
        "\n",
        "\n",
        "---\n",
        "\n",
        "\n",
        "## Individual Model: Random Forest\n",
        "\n",
        "### Hyperparameter Search\n",
        "\n",
        "Using Gridsearch with 5-fold cross-validation - ```GridSearchCV``` - via the ```sklearn.model_selection``` library.\n",
        "\n",
        "#### Parameter Search Space\n",
        "\n",
        "*   ```n_estimators``` - Number of Trees - ```[100, 200, 300, 500]```\n",
        "    * Exploring a range of tree counts, where more trees generally lead to more stable results but at the cost of increased computation time.\n",
        "*   ```max_depth``` - Maximum Depth of Trees - ```[10, 20, 30, None]```\n",
        "    * Limiting depth to reduce overfitting and ensure the model doesn't become too complex.\n",
        "*   ```min_samples_split``` - Minimum Samples to Split - ```[2, 4, 8]```\n",
        "    * Controls the minimum number of samples required to split an internal node. Higher values prevent the model from learning overly specific patterns.\n",
        "*   ```min_samples_leaf``` - Minimum Samples at a Leaf - ```[1, 2, 4]```\n",
        "    * Controls the minimum number of samples that must be present in a leaf node. This helps to generalize the model and avoid overfitting.\n",
        "*   ```max_features``` - Number of Features to Consider for Each Split - ```[None, 'sqrt', 'log2']```\n",
        "    * Varying how many features are considered at each split. Lower values help prevent overfitting by reducing the variance of the trees.\n",
        "*   ```class_weight``` - Class Imbalance Handling - ```[None, 'balanced', {0: 1, 1: 1.5, 2: 1}]```\n",
        "    * Adjusting class weights for imbalanced data, where **`'balanced'`** automatically adjusts the weight based on class frequency. The custom weight `{0: 1, 1: 1.5, 2: 1}` is used to give slightly more importance to Hyperthyroidism (class 1) due to its underrepresentation.\n",
        "*   ```criterion``` - Quality of Split - ```['gini', 'entropy']```\n",
        "    * Using 'gini' (default) or 'entropy' to measure the quality of a split. Both criteria are effective for classification tasks, but 'entropy' can be more sensitive to class distribution.\n"
      ],
      "metadata": {
        "id": "elPcUHVywGVJ"
      }
    },
    {
      "cell_type": "code",
      "source": [
        "# Define the parameter grid for Random Forest with custom class weights\n",
        "param_grid_rf = {\n",
        "    'n_estimators': [100, 200, 300, 500],\n",
        "    'max_depth': [None, 10, 20, 30],\n",
        "    'min_samples_split': [2, 4, 8],\n",
        "    'min_samples_leaf': [1, 2, 4],\n",
        "    'max_features': [None, 'sqrt', 'log2'],\n",
        "    'class_weight': [None, 'balanced'],\n",
        "    'criterion': ['gini', 'entropy']\n",
        "}\n",
        "\n",
        "# Instantiate Random Forest model with a random state for reproducibility\n",
        "rf_model = RandomForestClassifier(random_state=seed)\n",
        "\n",
        "# Set up GridSearchCV with 5-fold cross-validation\n",
        "grid_search_rf = GridSearchCV(rf_model, param_grid_rf, cv=5, scoring='accuracy', n_jobs=-1)\n",
        "\n",
        "# Fit the grid search to the training data\n",
        "grid_search_rf.fit(X_train, y_train)\n",
        "\n",
        "# Output the best parameters and best score\n",
        "print(f\"Best Parameters: {grid_search_rf.best_params_}\")\n",
        "print(f\"Best Score: {grid_search_rf.best_score_}\")"
      ],
      "metadata": {
        "id": "j1SgXrHiErt7"
      },
      "execution_count": null,
      "outputs": []
    },
    {
      "cell_type": "code",
      "source": [
        "# Initialise and train the Random Forest model with best parameters\n",
        "rf_model = RandomForestClassifier(\n",
        "    class_weight='balanced',\n",
        "    criterion='gini',\n",
        "    max_depth=10,\n",
        "    max_features='sqrt',\n",
        "    min_samples_leaf=1,\n",
        "    min_samples_split=8,\n",
        "    n_estimators=100,\n",
        "    random_state=seed\n",
        ")\n",
        "\n",
        "# Fit the model on the training data\n",
        "rf_model.fit(X_train, y_train)\n",
        "\n",
        "# Evaluate the Random Forest model\n",
        "evaluate_model(rf_model, X_test, y_test, labels=labels)\n"
      ],
      "metadata": {
        "colab": {
          "base_uri": "https://localhost:8080/",
          "height": 923
        },
        "id": "nBfDuDt4tbQk",
        "outputId": "06652031-25a2-4abf-8cdc-5893e1cfac9d"
      },
      "execution_count": null,
      "outputs": [
        {
          "output_type": "stream",
          "name": "stdout",
          "text": [
            "Weighted Precision: 0.9544\n",
            "Weighted Recall: 0.9535\n",
            "Weighted F1-Score: 0.9532\n",
            "ROC-AUC: 0.9889\n",
            "Balanced Accuracy: 0.9347\n",
            "Matthews Correlation Coefficient: 0.9208\n",
            "Specificity (for each class): {'Negative': 0.9784172661870504, 'Hyperthyroidism': 0.9957081545064378, 'Hypothyroidism': 0.9444444444444444}\n",
            "Class Accuracy (for each class): {'Negative': 0.9098360655737705, 'Hyperthyroidism': 0.8461538461538461, 'Hypothyroidism': 0.9262295081967213}\n",
            "\n",
            "Class: Negative\n",
            "  Precision: 0.9737\n",
            "  Recall: 0.9328\n",
            "  F1-Score: 0.9528\n",
            "  Accuracy: 0.9098\n",
            "\n",
            "Class: Hyperthyroidism\n",
            "  Precision: 0.9565\n",
            "  Recall: 0.8800\n",
            "  F1-Score: 0.9167\n",
            "  Accuracy: 0.8462\n",
            "\n",
            "Class: Hypothyroidism\n",
            "  Precision: 0.9339\n",
            "  Recall: 0.9912\n",
            "  F1-Score: 0.9617\n",
            "  Accuracy: 0.9262\n"
          ]
        },
        {
          "output_type": "display_data",
          "data": {
            "text/plain": [
              "<Figure size 640x480 with 2 Axes>"
            ],
            "image/png": "[encoded data removed]"
          },
          "metadata": {}
        }
      ]
    }
  ]
}